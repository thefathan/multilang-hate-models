{
 "cells": [
  {
   "cell_type": "code",
   "execution_count": 5,
   "metadata": {},
   "outputs": [],
   "source": [
    "import pandas as pd\n",
    "import numpy as np\n",
    "import matplotlib.pyplot as plt\n",
    "from sklearn.utils import resample\n",
    "from imblearn.under_sampling import RandomUnderSampler"
   ]
  },
  {
   "cell_type": "code",
   "execution_count": 6,
   "metadata": {},
   "outputs": [
    {
     "name": "stdout",
     "output_type": "stream",
     "text": [
      "Rows with non-numeric 'hs_class' values:\n",
      "7\n",
      "<class 'pandas.core.frame.DataFrame'>\n",
      "RangeIndex: 160498 entries, 0 to 160497\n",
      "Data columns (total 2 columns):\n",
      " #   Column    Non-Null Count   Dtype \n",
      "---  ------    --------------   ----- \n",
      " 0   text      160498 non-null  object\n",
      " 1   hs_class  160498 non-null  object\n",
      "dtypes: object(2)\n",
      "memory usage: 2.4+ MB\n"
     ]
    },
    {
     "data": {
      "text/plain": [
       "hs_class\n",
       "negative    80249\n",
       "positive    80249\n",
       "Name: count, dtype: int64"
      ]
     },
     "execution_count": 6,
     "metadata": {},
     "output_type": "execute_result"
    }
   ],
   "source": [
    "edf = pd.read_csv('/nas.dbms/fathan/test/multilang-hate-models/binary-hatespeech/final_preprocessed_data_yidong_devansh.csv', header = 0, names=['text', 'hs_class'])\n",
    "# Ensure 'text' column is string type\n",
    "edf['text'] = edf['text'].astype(str)\n",
    "\n",
    "# Convert the 'hs_class' column to numeric, forcing errors to NaN\n",
    "edf['hs_class'] = pd.to_numeric(edf['hs_class'], errors='coerce')\n",
    "\n",
    "# Display rows with non-numeric 'hs_class' values\n",
    "print(\"Rows with non-numeric 'hs_class' values:\")\n",
    "print(len(edf[edf['hs_class'].isna()]))\n",
    "\n",
    "# Drop rows with NaN 'hs_class' values\n",
    "edf.dropna(subset=['hs_class'], inplace=True)\n",
    "\n",
    "# Convert 'hs_class' column to integer type\n",
    "edf['hs_class'] = edf['hs_class'].astype(int)\n",
    "\n",
    "# Map the 'hs_class' values: 1 -> 'positive', 0 -> 'negative'\n",
    "edf['hs_class'] = edf['hs_class'].map({1: 'positive', 0: 'negative'})\n",
    "\n",
    "# Create the undersampling object\n",
    "undersampler = RandomUnderSampler(sampling_strategy='auto', random_state=42)\n",
    "\n",
    "# Separate the features (X) and the target (y)\n",
    "X = edf['text'].values.reshape(-1, 1)  # Reshape required because RandomUnderSampler expects a 2D array\n",
    "y = edf['hs_class']\n",
    "\n",
    "# Perform the undersampling\n",
    "X_resampled, y_resampled = undersampler.fit_resample(X, y)\n",
    "\n",
    "# Create a new dataframe with the resampled data\n",
    "edf = pd.DataFrame({'text': X_resampled.flatten(), 'hs_class': y_resampled})\n",
    "\n",
    "edf.dropna(subset=['text'], inplace=True)\n",
    "edf.info()\n",
    "edf.sample(5)\n",
    "edf['hs_class'].value_counts()"
   ]
  },
  {
   "cell_type": "code",
   "execution_count": 7,
   "metadata": {},
   "outputs": [
    {
     "name": "stdout",
     "output_type": "stream",
     "text": [
      "<class 'pandas.core.frame.DataFrame'>\n",
      "Index: 11068 entries, 0 to 11102\n",
      "Data columns (total 2 columns):\n",
      " #   Column    Non-Null Count  Dtype \n",
      "---  ------    --------------  ----- \n",
      " 0   hs_class  11068 non-null  object\n",
      " 1   text      11068 non-null  object\n",
      "dtypes: object(2)\n",
      "memory usage: 259.4+ KB\n"
     ]
    },
    {
     "data": {
      "text/html": [
       "<div>\n",
       "<style scoped>\n",
       "    .dataframe tbody tr th:only-of-type {\n",
       "        vertical-align: middle;\n",
       "    }\n",
       "\n",
       "    .dataframe tbody tr th {\n",
       "        vertical-align: top;\n",
       "    }\n",
       "\n",
       "    .dataframe thead th {\n",
       "        text-align: right;\n",
       "    }\n",
       "</style>\n",
       "<table border=\"1\" class=\"dataframe\">\n",
       "  <thead>\n",
       "    <tr style=\"text-align: right;\">\n",
       "      <th></th>\n",
       "      <th>hs_class</th>\n",
       "      <th>text</th>\n",
       "    </tr>\n",
       "  </thead>\n",
       "  <tbody>\n",
       "    <tr>\n",
       "      <th>10948</th>\n",
       "      <td>negative</td>\n",
       "      <td>antek antek nya wkwk malu ngehype wkwk</td>\n",
       "    </tr>\n",
       "    <tr>\n",
       "      <th>8566</th>\n",
       "      <td>negative</td>\n",
       "      <td>ya angkut kota goblok</td>\n",
       "    </tr>\n",
       "    <tr>\n",
       "      <th>4096</th>\n",
       "      <td>positive</td>\n",
       "      <td>mampus iya marah hyung 13 gue wkwk</td>\n",
       "    </tr>\n",
       "    <tr>\n",
       "      <th>5830</th>\n",
       "      <td>negative</td>\n",
       "      <td>laku homo jaman now ngentot live blued gay vid...</td>\n",
       "    </tr>\n",
       "    <tr>\n",
       "      <th>10117</th>\n",
       "      <td>negative</td>\n",
       "      <td>babi meeting jam sakit pinggang</td>\n",
       "    </tr>\n",
       "  </tbody>\n",
       "</table>\n",
       "</div>"
      ],
      "text/plain": [
       "       hs_class                                               text\n",
       "10948  negative             antek antek nya wkwk malu ngehype wkwk\n",
       "8566   negative                              ya angkut kota goblok\n",
       "4096   positive                 mampus iya marah hyung 13 gue wkwk\n",
       "5830   negative  laku homo jaman now ngentot live blued gay vid...\n",
       "10117  negative                   babi meeting jam sakit pinggang "
      ]
     },
     "execution_count": 7,
     "metadata": {},
     "output_type": "execute_result"
    }
   ],
   "source": [
    "idf = pd.read_csv('/nas.dbms/fathan/test/multilang-hate-models/data_preprocessed.csv', header = 0)\n",
    "idf.dropna(subset=['text'], inplace=True)\n",
    "idf.info()\n",
    "idf.sample(5)"
   ]
  },
  {
   "cell_type": "code",
   "execution_count": 8,
   "metadata": {},
   "outputs": [
    {
     "name": "stdout",
     "output_type": "stream",
     "text": [
      "<class 'pandas.core.frame.DataFrame'>\n",
      "RangeIndex: 22136 entries, 0 to 22135\n",
      "Data columns (total 2 columns):\n",
      " #   Column    Non-Null Count  Dtype \n",
      "---  ------    --------------  ----- \n",
      " 0   text      22136 non-null  object\n",
      " 1   hs_class  22136 non-null  object\n",
      "dtypes: object(2)\n",
      "memory usage: 346.0+ KB\n"
     ]
    },
    {
     "data": {
      "text/plain": [
       "hs_class\n",
       "positive    11087\n",
       "negative    11049\n",
       "Name: count, dtype: int64"
      ]
     },
     "execution_count": 8,
     "metadata": {},
     "output_type": "execute_result"
    }
   ],
   "source": [
    "# Ensure the order of the columns is consistent between the two dataframes\n",
    "# Reorder columns if necessary\n",
    "edf = edf[['text', 'hs_class']]\n",
    "idf = idf[['text', 'hs_class']]\n",
    "\n",
    "# Determine which dataframe is larger and which is smaller\n",
    "edf_size = len(edf)\n",
    "idf_size = len(idf)\n",
    "\n",
    "# If df1 is larger, we will undersample it to match df2's size\n",
    "if edf_size > idf_size:\n",
    "    edf_downsampled = resample(edf, \n",
    "                               replace=False,  # Do not sample with replacement\n",
    "                               n_samples=idf_size,  # Match df2's size\n",
    "                               random_state=42)  # For reproducibility\n",
    "    # Now we can concatenate the balanced dataframes\n",
    "    df = pd.concat([edf_downsampled, idf], ignore_index=True)\n",
    "else:\n",
    "    idf_downsampled = resample(idf, \n",
    "                               replace=False,  \n",
    "                               n_samples=edf_size,  \n",
    "                               random_state=42)  \n",
    "    # Now concatenate\n",
    "    df = pd.concat([edf, idf_downsampled], ignore_index=True)\n",
    "\n",
    "df.info()\n",
    "df.sample(5)\n",
    "df['hs_class'].value_counts()"
   ]
  }
 ],
 "metadata": {
  "kernelspec": {
   "display_name": "Python 3",
   "language": "python",
   "name": "python3"
  },
  "language_info": {
   "codemirror_mode": {
    "name": "ipython",
    "version": 3
   },
   "file_extension": ".py",
   "mimetype": "text/x-python",
   "name": "python",
   "nbconvert_exporter": "python",
   "pygments_lexer": "ipython3",
   "version": "3.10.14"
  }
 },
 "nbformat": 4,
 "nbformat_minor": 2
}
