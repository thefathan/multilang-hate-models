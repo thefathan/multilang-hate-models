{
 "cells": [
  {
   "cell_type": "code",
   "execution_count": 4,
   "metadata": {},
   "outputs": [
    {
     "name": "stdout",
     "output_type": "stream",
     "text": [
      "Saved truncated CSV as '/nas.dbms/fathan/test/multilang-hate-models/binary-hatespeech/badword-on-hatespeech-en/en_dataset_limited/negative_hatespeech_with_sexual_words_limited.csv' with a maximum of 5000 rows.\n",
      "Saved truncated CSV as '/nas.dbms/fathan/test/multilang-hate-models/binary-hatespeech/badword-on-hatespeech-en/en_dataset_limited/negative_hatespeech_without_sexual_words_limited.csv' with a maximum of 5000 rows.\n",
      "Saved truncated CSV as '/nas.dbms/fathan/test/multilang-hate-models/binary-hatespeech/badword-on-hatespeech-en/en_dataset_limited/positive_hatespeech_with_sexual_words_limited.csv' with a maximum of 5000 rows.\n",
      "Saved truncated CSV as '/nas.dbms/fathan/test/multilang-hate-models/binary-hatespeech/badword-on-hatespeech-en/en_dataset_limited/positive_hatespeech_without_sexual_words_limited.csv' with a maximum of 5000 rows.\n"
     ]
    }
   ],
   "source": [
    "import pandas as pd\n",
    "import csv\n",
    "\n",
    "# Define file paths and output paths for each CSV\n",
    "file_paths = [\n",
    "    '/nas.dbms/fathan/test/multilang-hate-models/binary-hatespeech/badword-on-hatespeech-en/negative_hatespeech_with_sexual_words.csv',\n",
    "    '/nas.dbms/fathan/test/multilang-hate-models/binary-hatespeech/badword-on-hatespeech-en/negative_hatespeech_without_sexual_words.csv',\n",
    "    '/nas.dbms/fathan/test/multilang-hate-models/binary-hatespeech/badword-on-hatespeech-en/positive_hatespeech_with_sexual_words.csv',\n",
    "    '/nas.dbms/fathan/test/multilang-hate-models/binary-hatespeech/badword-on-hatespeech-en/positive_hatespeech_without_sexual_words.csv',\n",
    "]\n",
    "\n",
    "output_paths = [\n",
    "    '/nas.dbms/fathan/test/multilang-hate-models/binary-hatespeech/badword-on-hatespeech-en/en_dataset_limited/negative_hatespeech_with_sexual_words_limited.csv',\n",
    "    '/nas.dbms/fathan/test/multilang-hate-models/binary-hatespeech/badword-on-hatespeech-en/en_dataset_limited/negative_hatespeech_without_sexual_words_limited.csv',\n",
    "    '/nas.dbms/fathan/test/multilang-hate-models/binary-hatespeech/badword-on-hatespeech-en/en_dataset_limited/positive_hatespeech_with_sexual_words_limited.csv',\n",
    "    '/nas.dbms/fathan/test/multilang-hate-models/binary-hatespeech/badword-on-hatespeech-en/en_dataset_limited/positive_hatespeech_without_sexual_words_limited.csv',\n",
    "]\n",
    "\n",
    "# Process each file individually\n",
    "for file_path, output_path in zip(file_paths, output_paths):\n",
    "    # Load the data\n",
    "    df = pd.read_csv(file_path, quoting=csv.QUOTE_ALL)\n",
    "    \n",
    "    # If the dataframe has more than 5000 rows, sample or truncate to 6000 rows\n",
    "    if len(df) > 6000:\n",
    "        df = df.sample(n=6000, random_state=42)  # random_state for reproducibility\n",
    "\n",
    "    # Save the new truncated or sampled CSV\n",
    "    df.to_csv(output_path, index=False)\n",
    "    print(f\"Saved truncated CSV as '{output_path}' with a maximum of 5000 rows.\")"
   ]
  },
  {
   "cell_type": "code",
   "execution_count": 6,
   "metadata": {},
   "outputs": [
    {
     "name": "stdout",
     "output_type": "stream",
     "text": [
      "The merged dataframe has been saved successfully.\n"
     ]
    }
   ],
   "source": [
    "import pandas as pd\n",
    "import csv\n",
    "\n",
    "df1 = pd.read_csv('/nas.dbms/fathan/test/multilang-hate-models/binary-hatespeech/badword-on-hatespeech-en/en_dataset_limited/negative_hatespeech_with_sexual_words_limited.csv')\n",
    "df2 = pd.read_csv('/nas.dbms/fathan/test/multilang-hate-models/binary-hatespeech/badword-on-hatespeech-en/en_dataset_limited/negative_hatespeech_without_sexual_words_limited.csv')\n",
    "df3 = pd.read_csv('/nas.dbms/fathan/test/multilang-hate-models/binary-hatespeech/badword-on-hatespeech-en/en_dataset_limited/positive_hatespeech_with_sexual_words_limited.csv')\n",
    "df4 = pd.read_csv('/nas.dbms/fathan/test/multilang-hate-models/binary-hatespeech/badword-on-hatespeech-en/en_dataset_limited/positive_hatespeech_without_sexual_words_limited.csv')\n",
    "\n",
    "# Crop the last 1000 rows from each dataframe\n",
    "df1_tail = df1.tail(1000)\n",
    "df2_tail = df2.tail(1000)\n",
    "df3_tail = df3.tail(1000)\n",
    "df4_tail = df4.tail(1000)\n",
    "\n",
    "# Merge the cropped dataframes into one and shuffle them\n",
    "merged_df = pd.concat([df1_tail, df2_tail, df3_tail, df4_tail], ignore_index=True)\n",
    "merged_df = merged_df.sample(frac=1, random_state=42).reset_index(drop=True)\n",
    "\n",
    "# Save the merged dataframe to a new CSV file\n",
    "merged_df.to_csv('/nas.dbms/fathan/test/multilang-hate-models/binary-hatespeech/badword-on-hatespeech-en/en_dataset_limited/en_val_and_test.csv', index=False)\n",
    "\n",
    "print(\"The merged dataframe has been saved successfully.\")"
   ]
  },
  {
   "cell_type": "code",
   "execution_count": 8,
   "metadata": {},
   "outputs": [],
   "source": [
    "import pandas as pd\n",
    "import csv\n",
    "\n",
    "# Define file paths and output paths for each CSV\n",
    "file_paths = [\n",
    "    '/nas.dbms/fathan/test/multilang-hate-models/binary-hatespeech/badword-on-hatespeech-en/en_dataset_limited/negative_hatespeech_with_sexual_words_limited.csv',\n",
    "    '/nas.dbms/fathan/test/multilang-hate-models/binary-hatespeech/badword-on-hatespeech-en/en_dataset_limited/negative_hatespeech_without_sexual_words_limited.csv',\n",
    "    '/nas.dbms/fathan/test/multilang-hate-models/binary-hatespeech/badword-on-hatespeech-en/en_dataset_limited/positive_hatespeech_with_sexual_words_limited.csv',\n",
    "    '/nas.dbms/fathan/test/multilang-hate-models/binary-hatespeech/badword-on-hatespeech-en/en_dataset_limited/positive_hatespeech_without_sexual_words_limited.csv',\n",
    "]\n",
    "\n",
    "output_paths = [\n",
    "    '/nas.dbms/fathan/test/multilang-hate-models/binary-hatespeech/badword-on-hatespeech-en/en_dataset_limited/training/negative_hatespeech_with_sexual_words_limited.csv',\n",
    "    '/nas.dbms/fathan/test/multilang-hate-models/binary-hatespeech/badword-on-hatespeech-en/en_dataset_limited/training/negative_hatespeech_without_sexual_words_limited.csv',\n",
    "    '/nas.dbms/fathan/test/multilang-hate-models/binary-hatespeech/badword-on-hatespeech-en/en_dataset_limited/training/positive_hatespeech_with_sexual_words_limited.csv',\n",
    "    '/nas.dbms/fathan/test/multilang-hate-models/binary-hatespeech/badword-on-hatespeech-en/en_dataset_limited/training/positive_hatespeech_without_sexual_words_limited.csv',\n",
    "]\n",
    "\n",
    "# Loop over each file path, crop the first 5000 rows, and save to output path\n",
    "for i, file_path in enumerate(file_paths):\n",
    "    # Load the CSV file into a DataFrame\n",
    "    df = pd.read_csv(file_path)\n",
    "    \n",
    "    # Crop the first 5000 rows\n",
    "    cropped_df = df.head(5000)\n",
    "    \n",
    "    # Save the cropped DataFrame to the corresponding output path\n",
    "    cropped_df.to_csv(output_paths[i], index=False)\n",
    "    "
   ]
  }
 ],
 "metadata": {
  "kernelspec": {
   "display_name": "Python 3",
   "language": "python",
   "name": "python3"
  },
  "language_info": {
   "codemirror_mode": {
    "name": "ipython",
    "version": 3
   },
   "file_extension": ".py",
   "mimetype": "text/x-python",
   "name": "python",
   "nbconvert_exporter": "python",
   "pygments_lexer": "ipython3",
   "version": "3.10.14"
  }
 },
 "nbformat": 4,
 "nbformat_minor": 2
}
