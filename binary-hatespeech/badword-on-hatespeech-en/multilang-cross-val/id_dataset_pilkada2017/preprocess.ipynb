{
 "cells": [
  {
   "cell_type": "code",
   "execution_count": 36,
   "metadata": {},
   "outputs": [],
   "source": [
    "import pandas as pd\n",
    "import numpy as np\n",
    "\n",
    "# visualization\n",
    "import matplotlib.pyplot as plt\n",
    "import seaborn as sns\n",
    "%matplotlib inline\n",
    "sns.set(style='darkgrid')\n",
    "\n",
    "import warnings\n",
    "warnings.filterwarnings('ignore')"
   ]
  },
  {
   "cell_type": "code",
   "execution_count": 37,
   "metadata": {},
   "outputs": [
    {
     "data": {
      "text/html": [
       "<div>\n",
       "<style scoped>\n",
       "    .dataframe tbody tr th:only-of-type {\n",
       "        vertical-align: middle;\n",
       "    }\n",
       "\n",
       "    .dataframe tbody tr th {\n",
       "        vertical-align: top;\n",
       "    }\n",
       "\n",
       "    .dataframe thead th {\n",
       "        text-align: right;\n",
       "    }\n",
       "</style>\n",
       "<table border=\"1\" class=\"dataframe\">\n",
       "  <thead>\n",
       "    <tr style=\"text-align: right;\">\n",
       "      <th></th>\n",
       "      <th>Label</th>\n",
       "      <th>Tweet</th>\n",
       "    </tr>\n",
       "  </thead>\n",
       "  <tbody>\n",
       "    <tr>\n",
       "      <th>0</th>\n",
       "      <td>Non_HS</td>\n",
       "      <td>RT @spardaxyz: Fadli Zon Minta Mendagri Segera...</td>\n",
       "    </tr>\n",
       "    <tr>\n",
       "      <th>1</th>\n",
       "      <td>Non_HS</td>\n",
       "      <td>RT @baguscondromowo: Mereka terus melukai aksi...</td>\n",
       "    </tr>\n",
       "    <tr>\n",
       "      <th>2</th>\n",
       "      <td>Non_HS</td>\n",
       "      <td>Sylvi: bagaimana gurbernur melakukan kekerasan...</td>\n",
       "    </tr>\n",
       "    <tr>\n",
       "      <th>3</th>\n",
       "      <td>Non_HS</td>\n",
       "      <td>Ahmad Dhani Tak Puas Debat Pilkada, Masalah Ja...</td>\n",
       "    </tr>\n",
       "    <tr>\n",
       "      <th>4</th>\n",
       "      <td>Non_HS</td>\n",
       "      <td>RT @lisdaulay28: Waspada KTP palsu.....kawal P...</td>\n",
       "    </tr>\n",
       "  </tbody>\n",
       "</table>\n",
       "</div>"
      ],
      "text/plain": [
       "    Label                                              Tweet\n",
       "0  Non_HS  RT @spardaxyz: Fadli Zon Minta Mendagri Segera...\n",
       "1  Non_HS  RT @baguscondromowo: Mereka terus melukai aksi...\n",
       "2  Non_HS  Sylvi: bagaimana gurbernur melakukan kekerasan...\n",
       "3  Non_HS  Ahmad Dhani Tak Puas Debat Pilkada, Masalah Ja...\n",
       "4  Non_HS  RT @lisdaulay28: Waspada KTP palsu.....kawal P..."
      ]
     },
     "execution_count": 37,
     "metadata": {},
     "output_type": "execute_result"
    }
   ],
   "source": [
    "df = pd.read_csv('/nas.dbms/fathan/test/multilang-hate-models/binary-hatespeech/badword-on-hatespeech-en/multilang-cross-val/id_dataset_pilkada2017/hate_speech_dataset.csv')\n",
    "df.head()"
   ]
  },
  {
   "cell_type": "code",
   "execution_count": 38,
   "metadata": {},
   "outputs": [],
   "source": [
    "import re\n",
    "\n",
    "def case_folding(data):\n",
    "  temp_tweet = []\n",
    "\n",
    "  for tw in data:\n",
    "    # removal of @name[mention]\n",
    "    tw = re.sub(r\"(?:\\@|https?\\://)\\S+\", \"\", tw)\n",
    "\n",
    "    # removal of links[https://blabala.com]\n",
    "    # tw = re.sub(r\"http[s]?://(?:[a-zA-Z]|[0-9]|[$-_@.&+]|[!*\\(\\),]|(?:%[0-9a-fA-F][0-9a-fA-F]))+\", \"\", tw)\n",
    "    tw = re.sub(r\"http\\S+\", \"\", tw)\n",
    "\n",
    "    # removal of new line\n",
    "    tw = re.sub('\\n', '', tw)\n",
    "\n",
    "    # removal of RT\n",
    "    tw = re.sub('RT', '', tw)\n",
    "\n",
    "    # removal of punctuations and numbers\n",
    "    tw = re.sub(\"[^a-zA-Z^']\", \" \", tw)\n",
    "    tw = re.sub(\" {2,}\", \" \", tw)\n",
    "\n",
    "    # remove leading and trailing whitespace\n",
    "    tw = tw.strip()\n",
    "\n",
    "    # remove whitespace with a single space\n",
    "    tw = re.sub(r'\\s+', ' ', tw)\n",
    "\n",
    "    # convert text to Lowercase\n",
    "    tw = tw.lower();\n",
    "    temp_tweet.append(tw)\n",
    "  return temp_tweet"
   ]
  },
  {
   "cell_type": "code",
   "execution_count": 39,
   "metadata": {},
   "outputs": [
    {
     "data": {
      "text/html": [
       "<div>\n",
       "<style scoped>\n",
       "    .dataframe tbody tr th:only-of-type {\n",
       "        vertical-align: middle;\n",
       "    }\n",
       "\n",
       "    .dataframe tbody tr th {\n",
       "        vertical-align: top;\n",
       "    }\n",
       "\n",
       "    .dataframe thead th {\n",
       "        text-align: right;\n",
       "    }\n",
       "</style>\n",
       "<table border=\"1\" class=\"dataframe\">\n",
       "  <thead>\n",
       "    <tr style=\"text-align: right;\">\n",
       "      <th></th>\n",
       "      <th>text</th>\n",
       "      <th>hs_class</th>\n",
       "    </tr>\n",
       "  </thead>\n",
       "  <tbody>\n",
       "    <tr>\n",
       "      <th>0</th>\n",
       "      <td>fadli zon minta mendagri segera menonaktifkan ...</td>\n",
       "      <td>negative</td>\n",
       "    </tr>\n",
       "    <tr>\n",
       "      <th>1</th>\n",
       "      <td>mereka terus melukai aksi dalam rangka memenja...</td>\n",
       "      <td>negative</td>\n",
       "    </tr>\n",
       "    <tr>\n",
       "      <th>2</th>\n",
       "      <td>sylvi bagaimana gurbernur melakukan kekerasan ...</td>\n",
       "      <td>negative</td>\n",
       "    </tr>\n",
       "    <tr>\n",
       "      <th>3</th>\n",
       "      <td>ahmad dhani tak puas debat pilkada masalah jal...</td>\n",
       "      <td>negative</td>\n",
       "    </tr>\n",
       "    <tr>\n",
       "      <th>4</th>\n",
       "      <td>waspada ktp palsu kawal pilkada</td>\n",
       "      <td>negative</td>\n",
       "    </tr>\n",
       "  </tbody>\n",
       "</table>\n",
       "</div>"
      ],
      "text/plain": [
       "                                                text  hs_class\n",
       "0  fadli zon minta mendagri segera menonaktifkan ...  negative\n",
       "1  mereka terus melukai aksi dalam rangka memenja...  negative\n",
       "2  sylvi bagaimana gurbernur melakukan kekerasan ...  negative\n",
       "3  ahmad dhani tak puas debat pilkada masalah jal...  negative\n",
       "4                    waspada ktp palsu kawal pilkada  negative"
      ]
     },
     "execution_count": 39,
     "metadata": {},
     "output_type": "execute_result"
    }
   ],
   "source": [
    "df['text']=case_folding(df['Tweet'])\n",
    "\n",
    "df = df[['text', 'Label']]\n",
    "df = df.rename(columns={'Label': 'hs_class'})\n",
    "\n",
    "df['hs_class'] = df['hs_class'].replace(\"Non_HS\", \"negative\")\n",
    "df['hs_class'] = df['hs_class'].replace(\"HS\", \"positive\")\n",
    "\n",
    "df.head()"
   ]
  },
  {
   "cell_type": "code",
   "execution_count": 40,
   "metadata": {},
   "outputs": [],
   "source": [
    "import csv\n",
    "\n",
    "df.to_csv('/nas.dbms/fathan/test/multilang-hate-models/binary-hatespeech/badword-on-hatespeech-en/multilang-cross-val/id_dataset_pilkada2017/hate_speech_dataset_formatted.csv', index=False)"
   ]
  }
 ],
 "metadata": {
  "kernelspec": {
   "display_name": "Python 3",
   "language": "python",
   "name": "python3"
  },
  "language_info": {
   "codemirror_mode": {
    "name": "ipython",
    "version": 3
   },
   "file_extension": ".py",
   "mimetype": "text/x-python",
   "name": "python",
   "nbconvert_exporter": "python",
   "pygments_lexer": "ipython3",
   "version": "3.10.14"
  }
 },
 "nbformat": 4,
 "nbformat_minor": 2
}
