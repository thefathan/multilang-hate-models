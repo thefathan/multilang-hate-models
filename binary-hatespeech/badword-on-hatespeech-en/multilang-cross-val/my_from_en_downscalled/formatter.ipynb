{
 "cells": [
  {
   "cell_type": "code",
   "execution_count": 1,
   "metadata": {},
   "outputs": [
    {
     "name": "stdout",
     "output_type": "stream",
     "text": [
      "Dataset has been formatted, filtered, and saved.\n"
     ]
    }
   ],
   "source": [
    "import pandas as pd\n",
    "import csv\n",
    "\n",
    "# Load the dataset\n",
    "df1 = pd.read_csv('/nas.dbms/fathan/test/multilang-hate-models/binary-hatespeech/badword-on-hatespeech-en/id_translated/negative_hatespeech_with_sexual_words_id_translated_downscalled.csv', quoting=csv.QUOTE_ALL)\n",
    "df2 = pd.read_csv('/nas.dbms/fathan/test/multilang-hate-models/binary-hatespeech/badword-on-hatespeech-en/id_translated/negative_hatespeech_without_sexual_words_id_translated_downscalled.csv', quoting=csv.QUOTE_ALL)\n",
    "df3 = pd.read_csv('/nas.dbms/fathan/test/multilang-hate-models/binary-hatespeech/badword-on-hatespeech-en/id_translated/positive_hatespeech_with_sexual_words_id_translated_downscalled.csv', quoting=csv.QUOTE_ALL)\n",
    "df4 = pd.read_csv('/nas.dbms/fathan/test/multilang-hate-models/binary-hatespeech/badword-on-hatespeech-en/id_translated/positive_hatespeech_without_sexual_words_id_translated_downscalled.csv', quoting=csv.QUOTE_ALL)\n",
    "\n",
    "# Keep only the relevant columns (indonesian text and hs_class)\n",
    "df1 = df1[['text_translated', 'hs_class']]\n",
    "df2 = df2[['text_translated', 'hs_class']]\n",
    "df3 = df3[['text_translated', 'hs_class']]\n",
    "df4 = df4[['text_translated', 'hs_class']]\n",
    "\n",
    "# Rename columns to match the desired format\n",
    "df1 = df1.rename(columns={'text_translated': 'text'})\n",
    "df2 = df2.rename(columns={'text_translated': 'text'})\n",
    "df3 = df3.rename(columns={'text_translated': 'text'})\n",
    "df4 = df4.rename(columns={'text_translated': 'text'})\n",
    "\n",
    "# Remove internal quotes if any\n",
    "df1['text'] = df1['text'].str.replace('\"', '', regex=False)\n",
    "df2['text'] = df2['text'].str.replace('\"', '', regex=False)\n",
    "df3['text'] = df3['text'].str.replace('\"', '', regex=False)\n",
    "df4['text'] = df4['text'].str.replace('\"', '', regex=False)\n",
    "\n",
    "# Filter out rows where text starts with \"Bahasa Indonesia\"\n",
    "df1 = df1[~df1['text'].str.startswith(\"Bahasa Indonesia\")]\n",
    "df2 = df2[~df2['text'].str.startswith(\"Bahasa Indonesia\")]\n",
    "df3 = df3[~df3['text'].str.startswith(\"Bahasa Indonesia\")]\n",
    "df4 = df4[~df4['text'].str.startswith(\"Bahasa Indonesia\")]\n",
    "\n",
    "# Save the new CSV with the correct format\n",
    "df1.to_csv('negative_hatespeech_with_sexual_words_id_translated_downscalled_formatted.csv', index=False)\n",
    "df2.to_csv('negative_hatespeech_without_sexual_words_id_translated_downscalled_formatted.csv', index=False)\n",
    "df3.to_csv('positive_hatespeech_with_sexual_words_id_translated_downscalled_formatted.csv', index=False)\n",
    "df4.to_csv('positive_hatespeech_without_sexual_words_id_translated_downscalled_formatted.csv', index=False)\n",
    "\n",
    "print(\"Dataset has been formatted, filtered, and saved.\")"
   ]
  }
 ],
 "metadata": {
  "kernelspec": {
   "display_name": "Python 3",
   "language": "python",
   "name": "python3"
  },
  "language_info": {
   "codemirror_mode": {
    "name": "ipython",
    "version": 3
   },
   "file_extension": ".py",
   "mimetype": "text/x-python",
   "name": "python",
   "nbconvert_exporter": "python",
   "pygments_lexer": "ipython3",
   "version": "3.10.14"
  }
 },
 "nbformat": 4,
 "nbformat_minor": 2
}
